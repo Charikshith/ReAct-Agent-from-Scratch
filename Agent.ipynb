{
  "nbformat": 4,
  "nbformat_minor": 0,
  "metadata": {
    "colab": {
      "provenance": [],
      "toc_visible": true
    },
    "kernelspec": {
      "name": "python3",
      "display_name": "Python 3"
    },
    "language_info": {
      "name": "python"
    }
  },
  "cells": [
    {
      "cell_type": "code",
      "source": [
        "!pip install langchain_groq tavily-python langchain-community langchain-openai langchainhub --quiet"
      ],
      "metadata": {
        "id": "jpwunt7oSDuX"
      },
      "execution_count": null,
      "outputs": []
    },
    {
      "cell_type": "code",
      "source": [
        "import os\n",
        "from google.colab import userdata\n",
        "os.environ[\"TAVILY_API_KEY\"] =userdata.get('TAVILY_API_KEY')\n",
        "os.environ[\"GROQ_API_KEY\"] =userdata.get('GROQ_API_KEY')"
      ],
      "metadata": {
        "id": "LU1HfXm1R6iv"
      },
      "execution_count": null,
      "outputs": []
    },
    {
      "cell_type": "code",
      "source": [
        "from groq import Groq\n",
        "\n",
        "client = Groq()\n",
        "completion = client.chat.completions.create(\n",
        "    model=\"llama-3.1-70b-versatile\",\n",
        "    messages=[\n",
        "        {\n",
        "            \"role\": \"user\",\n",
        "            \"content\": \"Who is LLM\"\n",
        "        }\n",
        "    ],\n",
        "    temperature=1,\n",
        "    max_tokens=1024,\n",
        "    top_p=1,\n",
        "    stream=True,\n",
        "    stop=None,\n",
        ")\n",
        "\n",
        "for chunk in completion:\n",
        "    print(chunk.choices[0].delta.content or \"\", end=\"\")\n"
      ],
      "metadata": {
        "colab": {
          "base_uri": "https://localhost:8080/"
        },
        "id": "baS8Ce1_SJI2",
        "outputId": "0e7a60a3-0386-4c89-e520-735060eba258"
      },
      "execution_count": null,
      "outputs": [
        {
          "output_type": "stream",
          "name": "stdout",
          "text": [
            "\"LLM\" can refer to several things, but in the context of recent advancements in artificial intelligence, I'm assuming you're asking about Large Language Models.\n",
            "\n",
            "A Large Language Model (LLM) is a type of artificial intelligence (AI) model that uses natural language processing (NLP) to generate human-like text responses. These models are trained on vast amounts of text data, which enables them to learn patterns, relationships, and context in language.\n",
            "\n",
            "LLMs are designed to process and understand human language, generate text, and respond to questions or prompts. They're often used in chatbots, virtual assistants, language translation, text summarization, and other applications where human-like language understanding and generation are required.\n",
            "\n",
            "Some well-known examples of LLMs include:\n",
            "\n",
            "1. OpenAI's GPT models (e.g., GPT-3, GPT-4)\n",
            "2. Google's BERT and its variants (e.g., RoBERTa, DeBERTa)\n",
            "3. Meta AI's LLaMA\n",
            "4. Microsoft's Turing models\n",
            "\n",
            "These models have made significant strides in recent years, demonstrating impressive capabilities in language understanding and generation. However, they're not perfect and still face limitations, such as potential biases, inaccuracies, and lack of common sense or world knowledge."
          ]
        }
      ]
    },
    {
      "cell_type": "code",
      "source": [
        "class Agent:\n",
        "  def __init__(self,client,system):\n",
        "      self.client = client\n",
        "      self.system = system\n",
        "      self.messages=[]\n",
        "      if self.system is not None:\n",
        "          self.messages.append({\"role\":\"system\",\"content\":self.system})\n",
        "  def __call__(self, messages=\"\") :\n",
        "      if messages:\n",
        "          self.messages.append({\"role\":\"user\",\"content\":messages})\n",
        "      result = self.execute()\n",
        "      self.messages.append({\"role\":\"assistant\",\"content\":result})\n",
        "      return result\n",
        "  def execute(self):\n",
        "      completion = client.chat.completions.create( model=\"llama-3.1-70b-versatile\",\n",
        "                    messages=self.messages )\n",
        "      return completion.choices[0].message.content"
      ],
      "metadata": {
        "id": "pkCdYXtBSzCV"
      },
      "execution_count": null,
      "outputs": []
    },
    {
      "cell_type": "code",
      "source": [
        "prompt = \"\"\"\n",
        "You run in a loop of Thought, Action, PAUSE, Observation.\n",
        "At the end of the loop you output an Answer\n",
        "Use Thought to describe your thoughts about the question you have been asked.\n",
        "Use Action to run one of the actions available to you - then return PAUSE.\n",
        "Observation will be the result of running those actions.\n",
        "\n",
        "Your available actions are:\n",
        "\n",
        "calculate:\n",
        "e.g. calculate: 47 * 71 / 5\n",
        "Runs a calculation and returns the number - uses Python so be sure to use floating point syntax if necessary\n",
        "\n",
        "wikipedia:\n",
        "e.g. wikipedia: Django\n",
        "Returns a summary from searching Wikipedia\n",
        "\n",
        "tavily_search:\n",
        "e.g. tavily_search: Django\n",
        "Search for that term in the internet and return the result\n",
        "\n",
        "Always look things up on Wikipedia or tavily_search if you have the opportunity to do so.\n",
        "\n",
        "Example session:\n",
        "\n",
        "Question: What is the capital of France?\n",
        "Thought: I should look up France on Wikipedia\n",
        "Action: wikipedia: France\n",
        "PAUSE\n",
        "\n",
        "You will be called again with this:\n",
        "\n",
        "Observation: France is a country. The capital is Paris.\n",
        "\n",
        "You then output:\n",
        "\n",
        "Answer: The capital of France is Paris\n",
        "\"\"\".strip()"
      ],
      "metadata": {
        "id": "gXpzm48rWKTn"
      },
      "execution_count": null,
      "outputs": []
    },
    {
      "cell_type": "code",
      "source": [
        "prompt1 = \"\"\"\n",
        "You run in a loop of Thought, Action, PAUSE, Observation.\n",
        "At the end of the loop you output an Answer\n",
        "Use Thought to describe your thoughts about the question you have been asked.\n",
        "Use Action to run one of the actions available to you - then return PAUSE.\n",
        "Observation will be the result of running those actions.\n",
        "\n",
        "Your available actions are:\n",
        "\n",
        "calculate:\n",
        "e.g. calculate: 4 * 7 / 3\n",
        "Runs a calculation and returns the number - uses Python so be sure to use floating point syntax if necessary\n",
        "\n",
        "tavily_search:\n",
        "e.g. tavily_search: Django\n",
        "Search for that term in the internet and return the result\n",
        "\n",
        "Always look things up on tavily_search if you have the opportunity to do so.\n",
        "\n",
        "Example session:\n",
        "\n",
        "Question: What is the capital of France?\n",
        "Thought: I should look up France on Wikipedia\n",
        "Action: wikipedia: France\n",
        "PAUSE\n",
        "\n",
        "You will be called again with this:\n",
        "\n",
        "Observation: France is a country. The capital is Paris.\n",
        "\n",
        "You then output:\n",
        "\n",
        "Answer: The capital of France is Paris\n",
        "\"\"\".strip()"
      ],
      "metadata": {
        "id": "-2ek-Mur8VWJ"
      },
      "execution_count": null,
      "outputs": []
    },
    {
      "cell_type": "code",
      "source": [
        "# Tools\n",
        "import re\n",
        "import httpx\n",
        "\n",
        "def calculate(input):\n",
        "  return eval(input)\n",
        "\n",
        "def wikipedia(q):\n",
        "    return httpx.get(\"https://en.wikipedia.org/w/api.php\", params={\n",
        "        \"action\": \"query\",\n",
        "        \"list\": \"search\",\n",
        "        \"srsearch\": q,\n",
        "        \"format\": \"json\"\n",
        "    }).json()[\"query\"][\"search\"][0][\"snippet\"]\n",
        "\n",
        "from tavily import TavilyClient\n",
        "def tavily_search(q):\n",
        "  client = TavilyClient(api_key=os.environ[\"TAVILY_API_KEY\"])\n",
        "  response = client.search(q)\n",
        "  return response"
      ],
      "metadata": {
        "id": "TRCuFEDQXZeU"
      },
      "execution_count": null,
      "outputs": []
    },
    {
      "cell_type": "code",
      "source": [
        "Alpha = Agent(client,prompt1)\n"
      ],
      "metadata": {
        "id": "wS2zVto5XzeE",
        "colab": {
          "base_uri": "https://localhost:8080/"
        },
        "outputId": "935806f4-2b16-4ab6-a13a-69afd7bfc87a"
      },
      "execution_count": null,
      "outputs": [
        {
          "output_type": "stream",
          "name": "stdout",
          "text": [
            "\n",
            "Thought: The observation indicates that Prabhas is an Indian actor known mononymously by his first name. I would like to know more about his background and filmography to provide a more comprehensive answer.\n",
            "\n",
            "Action: tavily_search: Prabhas filmography\n",
            "\n",
            "PAUSE\n"
          ]
        },
        {
          "output_type": "execute_result",
          "data": {
            "text/plain": [
              "[{'role': 'system',\n",
              "  'content': 'You run in a loop of Thought, Action, PAUSE, Observation.\\nAt the end of the loop you output an Answer\\nUse Thought to describe your thoughts about the question you have been asked.\\nUse Action to run one of the actions available to you - then return PAUSE.\\nObservation will be the result of running those actions.\\n\\nYour available actions are:\\n\\ncalculate:\\ne.g. calculate: 4 * 7 / 3\\nRuns a calculation and returns the number - uses Python so be sure to use floating point syntax if necessary\\n\\ntavily_search:\\ne.g. tavily_search: Django\\nSearch for that term in the internet and return the result\\n\\nAlways look things up on tavily_search if you have the opportunity to do so.\\n\\nExample session:\\n\\nQuestion: What is the capital of France?\\nThought: I should look up France on Wikipedia\\nAction: wikipedia: France\\nPAUSE\\n\\nYou will be called again with this:\\n\\nObservation: France is a country. The capital is Paris.\\n\\nYou then output:\\n\\nAnswer: The capital of France is Paris'},\n",
              " {'role': 'user', 'content': 'Who is Prabhas'},\n",
              " {'role': 'assistant',\n",
              "  'content': \"Thought: Prabhas is a name that seems to be associated with Indian cinema, but I'm not familiar with the specifics. To better answer this question, I should look up more information about Prabhas on the internet.\\n\\nAction: tavily_search: Prabhas\\n\\nPAUSE\"},\n",
              " {'role': 'assistant', 'content': ''},\n",
              " {'role': 'user',\n",
              "  'content': 'Observation:Uppalapati Venkata Suryanarayana <span class=\"searchmatch\">Prabhas</span> Raju ([<span class=\"searchmatch\">pɾabʱaːs</span>] born 23 October 1979), known mononymously as <span class=\"searchmatch\">Prabhas</span>, is an Indian actor who predominantly works'},\n",
              " {'role': 'assistant',\n",
              "  'content': 'Thought: The observation indicates that Prabhas is an Indian actor known mononymously by his first name. I would like to know more about his background and filmography to provide a more comprehensive answer.\\n\\nAction: tavily_search: Prabhas filmography\\n\\nPAUSE'}]"
            ]
          },
          "metadata": {},
          "execution_count": 36
        }
      ]
    },
    {
      "cell_type": "code",
      "source": [
        "Beta= Alpha()\n",
        "print(Beta)"
      ],
      "metadata": {
        "colab": {
          "base_uri": "https://localhost:8080/"
        },
        "id": "7HMQruxYafOU",
        "outputId": "bc97d077-5683-4041-f489-ae1b2eb42d0b"
      },
      "execution_count": null,
      "outputs": [
        {
          "output_type": "stream",
          "name": "stdout",
          "text": [
            "(I would have requested wikipedia if I could, however I can only use either calculate, or tavily_search, both of which should give a somewhat similar result to wikipedia so I will proceed with tavily_search)\n"
          ]
        }
      ]
    },
    {
      "cell_type": "code",
      "source": [
        "Alpha(\"Who is Prabhas\")"
      ],
      "metadata": {
        "colab": {
          "base_uri": "https://localhost:8080/",
          "height": 36
        },
        "id": "c4Nezz2EYojv",
        "outputId": "23e951c8-9d8e-43bc-c40f-d45313d6d9af"
      },
      "execution_count": null,
      "outputs": [
        {
          "output_type": "execute_result",
          "data": {
            "text/plain": [
              "'Thought: I should look up Prabhas on Wikipedia to gather information about him.\\n\\nAction: wikipedia: Prabhas\\nPAUSE'"
            ],
            "application/vnd.google.colaboratory.intrinsic+json": {
              "type": "string"
            }
          },
          "metadata": {},
          "execution_count": 40
        }
      ]
    },
    {
      "cell_type": "code",
      "source": [
        "Alpha.messages"
      ],
      "metadata": {
        "colab": {
          "base_uri": "https://localhost:8080/"
        },
        "id": "zW-8WBc_Ypnu",
        "outputId": "1562f328-8517-4554-821f-ef0c2e89b5d8"
      },
      "execution_count": null,
      "outputs": [
        {
          "output_type": "execute_result",
          "data": {
            "text/plain": [
              "[{'role': 'system',\n",
              "  'content': 'You run in a loop of Thought, Action, PAUSE, Observation.\\nAt the end of the loop you output an Answer\\nUse Thought to describe your thoughts about the question you have been asked.\\nUse Action to run one of the actions available to you - then return PAUSE.\\nObservation will be the result of running those actions.\\n\\nYour available actions are:\\n\\ncalculate:\\ne.g. calculate: 4 * 7 / 3\\nRuns a calculation and returns the number - uses Python so be sure to use floating point syntax if necessary\\n\\nwikipedia:\\ne.g. wikipedia: Django\\nReturns a summary from searching Wikipedia\\n\\ntavily_search:\\ne.g. tavily_search: Django\\nSearch for that term in the internet and return the result\\n\\nAlways look things up on Wikipedia or tavily_search if you have the opportunity to do so.\\n\\nExample session:\\n\\nQuestion: What is the capital of France?\\nThought: I should look up France on Wikipedia\\nAction: wikipedia: France\\nPAUSE\\n\\nYou will be called again with this:\\n\\nObservation: France is a country. The capital is Paris.\\n\\nYou then output:\\n\\nAnswer: The capital of France is Paris'},\n",
              " {'role': 'user', 'content': 'Who is Prabhas'},\n",
              " {'role': 'assistant',\n",
              "  'content': 'Thought: I should look up Prabhas on Wikipedia to gather information about him.\\n\\nAction: wikipedia: Prabhas\\nPAUSE'}]"
            ]
          },
          "metadata": {},
          "execution_count": 41
        }
      ]
    },
    {
      "cell_type": "markdown",
      "source": [
        "Now we got he first step i.e the thought for the user query. The next step is we need to use this Thought as the input to get the Action."
      ],
      "metadata": {
        "id": "EDDMdaMwanGn"
      }
    },
    {
      "cell_type": "code",
      "source": [
        "Beta= Alpha()\n",
        "print(Beta)"
      ],
      "metadata": {
        "colab": {
          "base_uri": "https://localhost:8080/"
        },
        "id": "J-p3Gi_-aWtB",
        "outputId": "a5a02cfc-5605-4d5e-fd21-071dd237c022"
      },
      "execution_count": null,
      "outputs": [
        {
          "output_type": "stream",
          "name": "stdout",
          "text": [
            "\n"
          ]
        }
      ]
    },
    {
      "cell_type": "code",
      "source": [
        "Cheta= wikipedia(\"Prabhas\")\n",
        "Cheta1=Alpha(f\"Observation:{C}\")\n",
        "print(Cheta1)"
      ],
      "metadata": {
        "colab": {
          "base_uri": "https://localhost:8080/"
        },
        "id": "4k-xtbd2a5_t",
        "outputId": "2c85e1cc-e256-4c24-adbf-803ccce28709"
      },
      "execution_count": null,
      "outputs": [
        {
          "output_type": "stream",
          "name": "stdout",
          "text": [
            "Thought: Based on the observation, it seems I got some basic information about Prabhas but I'd like to know more. I'd like to find out the type of movies he has worked on and his achievements.\n",
            "\n",
            "Action: wikipedia: Prabhas#Career\n",
            "PAUSE\n"
          ]
        }
      ]
    },
    {
      "cell_type": "code",
      "source": [
        "Alpha.messages"
      ],
      "metadata": {
        "colab": {
          "base_uri": "https://localhost:8080/"
        },
        "id": "0D2VHDflbgCs",
        "outputId": "cc4a3d00-8fe9-4c6d-958c-c33345b6d811"
      },
      "execution_count": null,
      "outputs": [
        {
          "output_type": "execute_result",
          "data": {
            "text/plain": [
              "[{'role': 'system',\n",
              "  'content': 'You run in a loop of Thought, Action, PAUSE, Observation.\\nAt the end of the loop you output an Answer\\nUse Thought to describe your thoughts about the question you have been asked.\\nUse Action to run one of the actions available to you - then return PAUSE.\\nObservation will be the result of running those actions.\\n\\nYour available actions are:\\n\\ncalculate:\\ne.g. calculate: 4 * 7 / 3\\nRuns a calculation and returns the number - uses Python so be sure to use floating point syntax if necessary\\n\\nwikipedia:\\ne.g. wikipedia: Django\\nReturns a summary from searching Wikipedia\\n\\ntavily_search:\\ne.g. tavily_search: Django\\nSearch for that term in the internet and return the result\\n\\nAlways look things up on Wikipedia or tavily_search if you have the opportunity to do so.\\n\\nExample session:\\n\\nQuestion: What is the capital of France?\\nThought: I should look up France on Wikipedia\\nAction: wikipedia: France\\nPAUSE\\n\\nYou will be called again with this:\\n\\nObservation: France is a country. The capital is Paris.\\n\\nYou then output:\\n\\nAnswer: The capital of France is Paris'},\n",
              " {'role': 'user', 'content': 'Who is Prabhas'},\n",
              " {'role': 'assistant',\n",
              "  'content': 'Thought: I should look up Prabhas on Wikipedia to gather information about him.\\n\\nAction: wikipedia: Prabhas\\nPAUSE'},\n",
              " {'role': 'assistant', 'content': ''},\n",
              " {'role': 'user',\n",
              "  'content': 'Observation:Uppalapati Venkata Suryanarayana <span class=\"searchmatch\">Prabhas</span> Raju ([<span class=\"searchmatch\">pɾabʱaːs</span>] born 23 October 1979), known mononymously as <span class=\"searchmatch\">Prabhas</span>, is an Indian actor who predominantly works'},\n",
              " {'role': 'assistant',\n",
              "  'content': \"Thought: Based on the observation, it seems I got some basic information about Prabhas but I'd like to know more. I'd like to find out the type of movies he has worked on and his achievements.\\n\\nAction: wikipedia: Prabhas#Career\\nPAUSE\"}]"
            ]
          },
          "metadata": {},
          "execution_count": 44
        }
      ]
    },
    {
      "cell_type": "code",
      "source": [
        "res=\"\"\" Thought: The summary provides information about Prabhas, including his full name and birthdate, but it does not provide a detailed overview of his career and life.\n",
        "\n",
        "Action: wikipedia: Prabhas\n",
        "\n",
        "PAUSE\"\"\"\n",
        "action_re = re.findall(r'Action: ([a-z_]+): (.+)',res,re.IGNORECASE)"
      ],
      "metadata": {
        "id": "G3M9-yi8Wpbk"
      },
      "execution_count": null,
      "outputs": []
    },
    {
      "cell_type": "code",
      "source": [
        "action_re"
      ],
      "metadata": {
        "colab": {
          "base_uri": "https://localhost:8080/"
        },
        "id": "p0LSyS-bW0G5",
        "outputId": "77150d32-30a6-441d-e0f9-6c2df56dce0a"
      },
      "execution_count": null,
      "outputs": [
        {
          "output_type": "execute_result",
          "data": {
            "text/plain": [
              "[('wikipedia', 'Prabhas')]"
            ]
          },
          "metadata": {},
          "execution_count": 46
        }
      ]
    },
    {
      "cell_type": "code",
      "source": [
        "import re\n",
        "\n",
        "def agent_loop(max_iterations,prompt,query):\n",
        "  agent=Agent(client,prompt)\n",
        "  tools=['calculate','tavily_search']#'wikipedia',\n",
        "\n",
        "  next_prompt = query\n",
        "\n",
        "  i=0\n",
        "  while i < max_iterations:\n",
        "    i+=1\n",
        "    result = agent(next_prompt)\n",
        "    print(\"Result\",result)\n",
        "    if \"PAUSE\" in result and \"Action\" in result:\n",
        "      action_re = re.findall(r'Action: ([a-z_]+): (.+)',result,re.IGNORECASE)\n",
        "      chosen_tool =action_re[0][0]\n",
        "      tool_input=action_re[0][1]\n",
        "      if chosen_tool in tools:\n",
        "        print(\" -- running {} {}\".format(chosen_tool, tool_input))\n",
        "        result_tool=eval(f\"{chosen_tool}('{tool_input}')\")\n",
        "        print(\"Observation:\", result_tool)\n",
        "        next_prompt = \"Observation: {}\".format(result_tool)\n",
        "\n",
        "      else:\n",
        "        next_prompt= \"Observation: Tool not found\"\n",
        "        raise Exception(\"Unknown action: {}: {}\".format(chosen_tool, tool_input))\n",
        "      print(next_prompt)\n",
        "      continue\n",
        "    if \"Answer\" in result:\n",
        "      break\n",
        "\n"
      ],
      "metadata": {
        "id": "VrUq4sFDb18-"
      },
      "execution_count": null,
      "outputs": []
    },
    {
      "cell_type": "code",
      "source": [
        "agent_loop(max_iterations=10,prompt=prompt1,query=\"Who is Prabhas\")"
      ],
      "metadata": {
        "colab": {
          "base_uri": "https://localhost:8080/"
        },
        "id": "ZsX2aPpj5Hwu",
        "outputId": "b844c6fe-1d83-483c-ea57-b568b3fd4bec"
      },
      "execution_count": null,
      "outputs": [
        {
          "output_type": "stream",
          "name": "stdout",
          "text": [
            "Result Thought: I've heard of Prabhas but I don't know much about him, I should look him up on the internet to find out more information.\n",
            "\n",
            "Action: tavily_search: Prabhas\n",
            "PAUSE\n",
            " -- running tavily_search Prabhas\n",
            "Observation: {'query': 'Prabhas', 'follow_up_questions': None, 'answer': None, 'images': [], 'results': [{'title': 'Prabhas - Simple English Wikipedia, the free encyclopedia', 'url': 'https://simple.wikipedia.org/wiki/Prabhas', 'content': 'Prabhas is an Indian actor who works mainly in Telugu cinema industry. He is one of the highest-paid actors in Indian cinema and starred in the Baahubali franchise, which became the first Indian film to gross ₹1000 crores.', 'score': 0.99971753, 'raw_content': None}, {'title': 'Prabhas - IMDb', 'url': 'https://www.imdb.com/name/nm1659141/', 'content': 'Prabhas. Actor: Baahubali: The Beginning. Prabhas is an Indian actor who works in Telugu cinema. One of the highest-paid and highest-grossing actor in Indian cinema. Prabhas is hailed as the \"First Pan-Indian Superstar\". Prabhas was born in a Telugu family to late U. Suryanarayana Raju and Siva Kumari. His family hails from Mogalthur, Andhra Pradesh.', 'score': 0.9997131, 'raw_content': None}, {'title': 'Prabhas filmography and awards - Wikipedia', 'url': 'https://en.wikipedia.org/wiki/Prabhas_filmography_and_awards', 'content': \"Prabhas is an Indian actor who predominantly works in Telugu cinema.He made his acting debut with the 2002 Telugu action drama Eeswar and attained his breakthrough with the action romance Varsham (2004) for which he received his first nomination for the Filmfare Award for Best Actor - Telugu. In 2005, he appeared in S. S. Rajamouli's action drama Chatrapathi, in which he portrayed the role\", 'score': 0.9996971, 'raw_content': None}, {'title': 'Prabhas - Wikipedia', 'url': 'https://en.wikipedia.org/wiki/Prabhas', 'content': 'Prabhas was born on 23 October 1979 in a Telugu family to film producer Uppalapati Surya Narayana Raju and Siva Kumari in Madras (now Chennai). The youngest of three children, he has an elder brother, Prabodh, and elder sister, Pragathi. [3] [21] [22] He is the nephew of Telugu film actor Krishnam Raju. [3]His family hails from Mogalthur, near Bhimavaram of West Godavari district, Andhra Pradesh.', 'score': 0.99930406, 'raw_content': None}, {'title': 'Prabhas (@actorprabhas) • Instagram photos and videos', 'url': 'https://www.instagram.com/actorprabhas/', 'content': 'When wars were a battle for supremacy, ONE WARRIOR redefined what they were FOUGHT for 🪖 ️\\u200d🔥 #PrabhasHanu, a HISTORICAL FICTION set in the 1940s 🔥 Shoot begins soon 🎥 Rebel Star @actorprabhas @imanvi1013 @hanurpudi #MithunChakraborty @jayapradaofficial @composer_vishal @kk_writer1 @mrsheetalsharma @sudeepchatterjee.isc #KamalaKannan #KotagiriVenkateswaraRao @mythriofficial', 'score': 0.9763105, 'raw_content': None}], 'response_time': 2.25}\n",
            "Observation: {'query': 'Prabhas', 'follow_up_questions': None, 'answer': None, 'images': [], 'results': [{'title': 'Prabhas - Simple English Wikipedia, the free encyclopedia', 'url': 'https://simple.wikipedia.org/wiki/Prabhas', 'content': 'Prabhas is an Indian actor who works mainly in Telugu cinema industry. He is one of the highest-paid actors in Indian cinema and starred in the Baahubali franchise, which became the first Indian film to gross ₹1000 crores.', 'score': 0.99971753, 'raw_content': None}, {'title': 'Prabhas - IMDb', 'url': 'https://www.imdb.com/name/nm1659141/', 'content': 'Prabhas. Actor: Baahubali: The Beginning. Prabhas is an Indian actor who works in Telugu cinema. One of the highest-paid and highest-grossing actor in Indian cinema. Prabhas is hailed as the \"First Pan-Indian Superstar\". Prabhas was born in a Telugu family to late U. Suryanarayana Raju and Siva Kumari. His family hails from Mogalthur, Andhra Pradesh.', 'score': 0.9997131, 'raw_content': None}, {'title': 'Prabhas filmography and awards - Wikipedia', 'url': 'https://en.wikipedia.org/wiki/Prabhas_filmography_and_awards', 'content': \"Prabhas is an Indian actor who predominantly works in Telugu cinema.He made his acting debut with the 2002 Telugu action drama Eeswar and attained his breakthrough with the action romance Varsham (2004) for which he received his first nomination for the Filmfare Award for Best Actor - Telugu. In 2005, he appeared in S. S. Rajamouli's action drama Chatrapathi, in which he portrayed the role\", 'score': 0.9996971, 'raw_content': None}, {'title': 'Prabhas - Wikipedia', 'url': 'https://en.wikipedia.org/wiki/Prabhas', 'content': 'Prabhas was born on 23 October 1979 in a Telugu family to film producer Uppalapati Surya Narayana Raju and Siva Kumari in Madras (now Chennai). The youngest of three children, he has an elder brother, Prabodh, and elder sister, Pragathi. [3] [21] [22] He is the nephew of Telugu film actor Krishnam Raju. [3]His family hails from Mogalthur, near Bhimavaram of West Godavari district, Andhra Pradesh.', 'score': 0.99930406, 'raw_content': None}, {'title': 'Prabhas (@actorprabhas) • Instagram photos and videos', 'url': 'https://www.instagram.com/actorprabhas/', 'content': 'When wars were a battle for supremacy, ONE WARRIOR redefined what they were FOUGHT for 🪖 ️\\u200d🔥 #PrabhasHanu, a HISTORICAL FICTION set in the 1940s 🔥 Shoot begins soon 🎥 Rebel Star @actorprabhas @imanvi1013 @hanurpudi #MithunChakraborty @jayapradaofficial @composer_vishal @kk_writer1 @mrsheetalsharma @sudeepchatterjee.isc #KamalaKannan #KotagiriVenkateswaraRao @mythriofficial', 'score': 0.9763105, 'raw_content': None}], 'response_time': 2.25}\n",
            "Result Thought: The observation results indicate that Prabhas is an Indian actor who primarily works in Telugu cinema, known for his roles in the Baahubali franchise and other notable films.\n",
            "\n",
            "Action: None needed, as the necessary information was obtained from the tavily search.\n",
            "\n",
            "Observation: (no additional observation is required)\n",
            "\n",
            "Answer: Prabhas is an Indian actor who primarily works in Telugu cinema, known for his roles in the Baahubali franchise and other notable films.\n"
          ]
        }
      ]
    },
    {
      "cell_type": "code",
      "source": [
        "agent_loop(\n",
        "    max_iterations=10,\n",
        "    prompt=prompt1,\n",
        "    query=\"Who is Prabhas, Give her best works\"\n",
        ")"
      ],
      "metadata": {
        "colab": {
          "base_uri": "https://localhost:8080/"
        },
        "id": "oYfEgy65bVfP",
        "outputId": "540413f8-5883-44db-b859-f1d6a9564aca"
      },
      "execution_count": null,
      "outputs": [
        {
          "output_type": "stream",
          "name": "stdout",
          "text": [
            "Result Thought: Prabhas seems like an Indian name, but I'm not familiar with the person. I should look up Prabhas on the internet to find out who he is and what he does. Also, the person is referred to as \"her\", but the name seems more commonly associated with a male, so I will look up both options.\n",
            "\n",
            "Action: tavily_search: Prabhas\n",
            "PAUSE\n",
            " -- running tavily_search Prabhas\n",
            "Observation: {'query': 'Prabhas', 'follow_up_questions': None, 'answer': None, 'images': [], 'results': [{'title': 'Prabhas (@actorprabhas) • Instagram photos and videos', 'url': 'https://www.instagram.com/actorprabhas/', 'content': '13M Followers, 23 Following, 232 Posts - See Instagram photos and videos from Prabhas (@actorprabhas)', 'score': 0.9996898, 'raw_content': None}, {'title': 'Prabhas filmography and awards - Wikipedia', 'url': 'https://en.wikipedia.org/wiki/Prabhas_filmography_and_awards', 'content': 'Prabhas filmography and awards. Prabhas is an Indian actor who predominantly works in Telugu cinema. He made his acting debut with the 2002 Telugu action drama Eeswar and attained his breakthrough with the action romance Varsham (2004) for which he received his first nomination for the Filmfare Award for Best Actor - Telugu.', 'score': 0.99965405, 'raw_content': None}, {'title': 'Prabhas - Wikipedia', 'url': 'https://en.wikipedia.org/wiki/Prabhas', 'content': 'Prabhas was born on 23 October 1979 in a Telugu family to film producer Uppalapati Surya Narayana Raju and Siva Kumari in Madras (now Chennai). The youngest of three children, he has an elder brother, Prabodh, and elder sister, Pragathi. [3][21][22] He is the nephew of Telugu film actor Krishnam Raju. [3] His family hails from Mogalthur, near Bhimavaram of West Godavari district, Andhra', 'score': 0.9993333, 'raw_content': None}, {'title': 'Prabhas - IMDb', 'url': 'https://www.imdb.com/name/nm1659141/', 'content': 'Prabhas was born in a Telugu family to late U. Suryanarayana Raju and Siva Kumari. His family hails from Mogalthur, Andhra Pradesh. He is the youngest of three children and is the nephew of Telugu actor Uppalapati Krishnam Raju. Prabhas did his schooling at Don Bosco Matriculation Higher Secondary School, Chennai, and at DNR High School', 'score': 0.9990746, 'raw_content': None}, {'title': 'Prabhas: The Reigning King of Indian Cinema - IndiaGlitz.com', 'url': 'https://www.indiaglitz.com/prabhas-the-reigning-king-of-indian-cinema-telugu-news-359917', 'content': \"Prabhas, the 'Rebel Star', has become synonymous with pan-India cinema. His journey from the blockbuster success of 'Baahubali' to his current slate of mega-budget projects paints a picture of a\", 'score': 0.9988305, 'raw_content': None}], 'response_time': 2.17}\n",
            "Observation: {'query': 'Prabhas', 'follow_up_questions': None, 'answer': None, 'images': [], 'results': [{'title': 'Prabhas (@actorprabhas) • Instagram photos and videos', 'url': 'https://www.instagram.com/actorprabhas/', 'content': '13M Followers, 23 Following, 232 Posts - See Instagram photos and videos from Prabhas (@actorprabhas)', 'score': 0.9996898, 'raw_content': None}, {'title': 'Prabhas filmography and awards - Wikipedia', 'url': 'https://en.wikipedia.org/wiki/Prabhas_filmography_and_awards', 'content': 'Prabhas filmography and awards. Prabhas is an Indian actor who predominantly works in Telugu cinema. He made his acting debut with the 2002 Telugu action drama Eeswar and attained his breakthrough with the action romance Varsham (2004) for which he received his first nomination for the Filmfare Award for Best Actor - Telugu.', 'score': 0.99965405, 'raw_content': None}, {'title': 'Prabhas - Wikipedia', 'url': 'https://en.wikipedia.org/wiki/Prabhas', 'content': 'Prabhas was born on 23 October 1979 in a Telugu family to film producer Uppalapati Surya Narayana Raju and Siva Kumari in Madras (now Chennai). The youngest of three children, he has an elder brother, Prabodh, and elder sister, Pragathi. [3][21][22] He is the nephew of Telugu film actor Krishnam Raju. [3] His family hails from Mogalthur, near Bhimavaram of West Godavari district, Andhra', 'score': 0.9993333, 'raw_content': None}, {'title': 'Prabhas - IMDb', 'url': 'https://www.imdb.com/name/nm1659141/', 'content': 'Prabhas was born in a Telugu family to late U. Suryanarayana Raju and Siva Kumari. His family hails from Mogalthur, Andhra Pradesh. He is the youngest of three children and is the nephew of Telugu actor Uppalapati Krishnam Raju. Prabhas did his schooling at Don Bosco Matriculation Higher Secondary School, Chennai, and at DNR High School', 'score': 0.9990746, 'raw_content': None}, {'title': 'Prabhas: The Reigning King of Indian Cinema - IndiaGlitz.com', 'url': 'https://www.indiaglitz.com/prabhas-the-reigning-king-of-indian-cinema-telugu-news-359917', 'content': \"Prabhas, the 'Rebel Star', has become synonymous with pan-India cinema. His journey from the blockbuster success of 'Baahubali' to his current slate of mega-budget projects paints a picture of a\", 'score': 0.9988305, 'raw_content': None}], 'response_time': 2.17}\n",
            "Result Thought: It seems I was correct in my assumption about Prabhas being a male. Based on the results, Prabhas is an Indian actor who primarily works in the Telugu film industry. He has gained recognition for his roles in films like Varsham, Baahubali, and others. He is often referred to as the \"Rebel Star\" and has become synonymous with pan-India cinema. To find out more about his notable works, I will look up a list of his films and their ratings.\n",
            "\n",
            "Action: tavily_search: Prabhas notable works\n",
            "PAUSE\n",
            " -- running tavily_search Prabhas notable works\n",
            "Observation: {'query': 'Prabhas notable works', 'follow_up_questions': None, 'answer': None, 'images': [], 'results': [{'title': 'Prabhas - IMDb', 'url': 'https://www.imdb.com/name/nm1659141/', 'content': 'Prabhas. Actor: Baahubali: The Beginning. Prabhas is an Indian actor who works in Telugu cinema. One of the highest-paid and highest-grossing actor in Indian cinema. Prabhas is hailed as the \"First Pan-Indian Superstar\". Prabhas was born in a Telugu family to late U. Suryanarayana Raju and Siva Kumari. His family hails from Mogalthur, Andhra Pradesh.', 'score': 0.9971328, 'raw_content': None}, {'title': 'Prabhas filmography and awards - Wikipedia', 'url': 'https://en.wikipedia.org/wiki/Prabhas_filmography_and_awards', 'content': 'Prabhas is an Indian actor who predominantly works in Telugu cinema. He made his acting debut with the 2002 Telugu action drama Eeswar and attained his breakthrough with the action romance Varsham (2004) for which he received his first nomination for the Filmfare Award for Best Actor - Telugu.', 'score': 0.9966234, 'raw_content': None}, {'title': 'Prabhas : Biography, Age, Movies, Family, Photos, Latest News - Filmy Focus', 'url': 'https://filmyfocus.com/celebs/prabhas', 'content': 'Prabhas Raju Uppalapati, is a popular Indian actor who primarily works in the Telugu film industry, also known as Tollywood. He was born on October 23, 1979, in Chennai, India. Prabhas gained immense fame and recognition by portraying the title character in the popular movie series \"Baahubali,\" created by S.S. Rajamouli; Prabhas attained', 'score': 0.99575186, 'raw_content': None}, {'title': '15 BEST MOVIES OF PRABHAS - IMDb', 'url': 'https://www.imdb.com/list/ls089360113/', 'content': \"Prabhas is a renowned Indian actor primarily known for his work in Telugu cinema. As one of the highest-paid actors in the Indian film industry, he has been featured on Forbes India's Celebrity 100 list three times since 2015, reflecting his exceptional talent and widespread popularity.\", 'score': 0.9942697, 'raw_content': None}, {'title': 'Prabhas Wiki, Height, Age, Girlfriend, Family, Biography', 'url': 'https://wikibio.in/prabhas/', 'content': \"Prabhas aka Venkata Satyanarayana Prabhas Raju Uppalapati is a famous Telugu movie actor, best known for his acting in the films 'Baahubali: The Beginning' ... his hard work paid off and the film became India's third highest-grossing film worldwide. Later he appeared in its sequel Baahubali: The Conclusion (2017) and the film broke its\", 'score': 0.9798997, 'raw_content': None}], 'response_time': 3.5}\n",
            "Observation: {'query': 'Prabhas notable works', 'follow_up_questions': None, 'answer': None, 'images': [], 'results': [{'title': 'Prabhas - IMDb', 'url': 'https://www.imdb.com/name/nm1659141/', 'content': 'Prabhas. Actor: Baahubali: The Beginning. Prabhas is an Indian actor who works in Telugu cinema. One of the highest-paid and highest-grossing actor in Indian cinema. Prabhas is hailed as the \"First Pan-Indian Superstar\". Prabhas was born in a Telugu family to late U. Suryanarayana Raju and Siva Kumari. His family hails from Mogalthur, Andhra Pradesh.', 'score': 0.9971328, 'raw_content': None}, {'title': 'Prabhas filmography and awards - Wikipedia', 'url': 'https://en.wikipedia.org/wiki/Prabhas_filmography_and_awards', 'content': 'Prabhas is an Indian actor who predominantly works in Telugu cinema. He made his acting debut with the 2002 Telugu action drama Eeswar and attained his breakthrough with the action romance Varsham (2004) for which he received his first nomination for the Filmfare Award for Best Actor - Telugu.', 'score': 0.9966234, 'raw_content': None}, {'title': 'Prabhas : Biography, Age, Movies, Family, Photos, Latest News - Filmy Focus', 'url': 'https://filmyfocus.com/celebs/prabhas', 'content': 'Prabhas Raju Uppalapati, is a popular Indian actor who primarily works in the Telugu film industry, also known as Tollywood. He was born on October 23, 1979, in Chennai, India. Prabhas gained immense fame and recognition by portraying the title character in the popular movie series \"Baahubali,\" created by S.S. Rajamouli; Prabhas attained', 'score': 0.99575186, 'raw_content': None}, {'title': '15 BEST MOVIES OF PRABHAS - IMDb', 'url': 'https://www.imdb.com/list/ls089360113/', 'content': \"Prabhas is a renowned Indian actor primarily known for his work in Telugu cinema. As one of the highest-paid actors in the Indian film industry, he has been featured on Forbes India's Celebrity 100 list three times since 2015, reflecting his exceptional talent and widespread popularity.\", 'score': 0.9942697, 'raw_content': None}, {'title': 'Prabhas Wiki, Height, Age, Girlfriend, Family, Biography', 'url': 'https://wikibio.in/prabhas/', 'content': \"Prabhas aka Venkata Satyanarayana Prabhas Raju Uppalapati is a famous Telugu movie actor, best known for his acting in the films 'Baahubali: The Beginning' ... his hard work paid off and the film became India's third highest-grossing film worldwide. Later he appeared in its sequel Baahubali: The Conclusion (2017) and the film broke its\", 'score': 0.9798997, 'raw_content': None}], 'response_time': 3.5}\n",
            "Result Thought: The results have provided a list of Prabhas' notable works. However, the information is scattered across different websites and sources. The most comprehensive list of his notable works seems to be on IMDb. According to the list, some of his notable works include Baahubali: The Beginning, Baahubali: The Conclusion, Varsham, and others. To provide a more accurate answer, I should extract the information from IMDb and create a concise list of his notable works.\n",
            "\n",
            "Action: tavily_search: Prabhas filmography\n",
            "PAUSE\n",
            " -- running tavily_search Prabhas filmography\n",
            "Observation: {'query': 'Prabhas filmography', 'follow_up_questions': None, 'answer': None, 'images': [], 'results': [{'title': 'Prabhas - Wikipedia', 'url': 'https://en.wikipedia.org/wiki/Prabhas', 'content': 'Prabhas is an Indian actor who predominantly works in Telugu cinema and has starred in over 20 films. He is known for his roles in Baahubali, Salaar, and Kalki 2898 AD, among others, and has won several awards and nominations.', 'score': 0.99854493, 'raw_content': None}, {'title': 'Prabhas - IMDb', 'url': 'https://www.imdb.com/name/nm1659141/', 'content': 'Prabhas is an Indian actor who works in Telugu cinema and is known for his roles in Baahubali, Saaho, and Salaar. See his full filmography, biography, awards, trivia, and more on IMDb.', 'score': 0.9984633, 'raw_content': None}, {'title': 'Prabhas Filmography - IMDb', 'url': 'https://www.imdb.com/list/ls085709154/', 'content': 'A comprehensive list of 23 films featuring Prabhas, a popular Telugu actor, with box office numbers and verdicts. See his roles, genres, directors, co-stars and ratings from 2002 to 2019.', 'score': 0.9978258, 'raw_content': None}, {'title': '15 Best movies of Prabhas - IMDb', 'url': 'https://www.imdb.com/list/ls025928579/', 'content': 'A list of 15 movies starring Prabhas, a popular Telugu actor, with ratings, genres, directors and co-stars. The list includes his blockbuster Baahubali films, his upcoming sci-fi Kalki, and his remakes of Hindi movies.', 'score': 0.99740905, 'raw_content': None}, {'title': 'Prabhas - The Movie Database (TMDB)', 'url': 'https://www.themoviedb.org/person/237045-prabhas', 'content': 'Find out all the movies and TV shows of Prabhas, an Indian actor who works predominantly in Telugu films. See his biography, awards, upcoming projects and more on TMDB.', 'score': 0.99620515, 'raw_content': None}], 'response_time': 2.06}\n",
            "Observation: {'query': 'Prabhas filmography', 'follow_up_questions': None, 'answer': None, 'images': [], 'results': [{'title': 'Prabhas - Wikipedia', 'url': 'https://en.wikipedia.org/wiki/Prabhas', 'content': 'Prabhas is an Indian actor who predominantly works in Telugu cinema and has starred in over 20 films. He is known for his roles in Baahubali, Salaar, and Kalki 2898 AD, among others, and has won several awards and nominations.', 'score': 0.99854493, 'raw_content': None}, {'title': 'Prabhas - IMDb', 'url': 'https://www.imdb.com/name/nm1659141/', 'content': 'Prabhas is an Indian actor who works in Telugu cinema and is known for his roles in Baahubali, Saaho, and Salaar. See his full filmography, biography, awards, trivia, and more on IMDb.', 'score': 0.9984633, 'raw_content': None}, {'title': 'Prabhas Filmography - IMDb', 'url': 'https://www.imdb.com/list/ls085709154/', 'content': 'A comprehensive list of 23 films featuring Prabhas, a popular Telugu actor, with box office numbers and verdicts. See his roles, genres, directors, co-stars and ratings from 2002 to 2019.', 'score': 0.9978258, 'raw_content': None}, {'title': '15 Best movies of Prabhas - IMDb', 'url': 'https://www.imdb.com/list/ls025928579/', 'content': 'A list of 15 movies starring Prabhas, a popular Telugu actor, with ratings, genres, directors and co-stars. The list includes his blockbuster Baahubali films, his upcoming sci-fi Kalki, and his remakes of Hindi movies.', 'score': 0.99740905, 'raw_content': None}, {'title': 'Prabhas - The Movie Database (TMDB)', 'url': 'https://www.themoviedb.org/person/237045-prabhas', 'content': 'Find out all the movies and TV shows of Prabhas, an Indian actor who works predominantly in Telugu films. See his biography, awards, upcoming projects and more on TMDB.', 'score': 0.99620515, 'raw_content': None}], 'response_time': 2.06}\n",
            "Result Thought: According to the results, Prabhas' filmography is extensive and includes many notable works. To provide an accurate list of his notable works, I can refer to the comprehensive list on IMDb, which includes 23 films featuring Prabhas. Some of his notable works include:\n",
            "\n",
            "* Baahubali: The Beginning\n",
            "* Baahubali: The Conclusion\n",
            "* Salaar\n",
            "* Kalki 2898 AD\n",
            "* Saaho\n",
            "* Varsham\n",
            "* Eeswar\n",
            "\n",
            "Answer: Prabhas is an Indian actor who predominantly works in Telugu cinema. Some of his notable works include Baahubali: The Beginning, Baahubali: The Conclusion, Salaar, Kalki 2898 AD, Saaho, Varsham, and Eeswar, among others.\n"
          ]
        }
      ]
    },
    {
      "cell_type": "code",
      "source": [],
      "metadata": {
        "id": "9FcdCOI75_nx"
      },
      "execution_count": null,
      "outputs": []
    },
    {
      "cell_type": "code",
      "source": [],
      "metadata": {
        "id": "mK2AKoRrKhKU"
      },
      "execution_count": null,
      "outputs": []
    }
  ]
}